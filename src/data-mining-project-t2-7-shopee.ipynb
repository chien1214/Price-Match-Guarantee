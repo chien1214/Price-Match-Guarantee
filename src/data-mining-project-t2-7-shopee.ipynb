{
 "cells": [
  {
   "cell_type": "markdown",
   "id": "da6c7440",
   "metadata": {
    "papermill": {
     "duration": 0.033462,
     "end_time": "2022-01-02T12:46:57.719250",
     "exception": false,
     "start_time": "2022-01-02T12:46:57.685788",
     "status": "completed"
    },
    "tags": []
   },
   "source": [
    "# About this Notebook\n",
    "\n",
    "After carefull considerations and doing a lot of experiments with tfidf and Bert-Based models , I strongly feel Bert-based models might do better if trained and used in the right way. [This](https://www.kaggle.com/c/shopee-product-matching/discussion/231510) dicussion thread talks about the usage of different approaches for text and discusses why BERT-base model might be better.\n",
    "\n",
    "I started with normal Hugging Face BERT type models , but I found Sentence transformers pre-trained models a better idea . As sentence transformer models were already trained in a siamese fashion especially for information retreival and semantic similarity tasks it's much better idea to start with them and then fine-tune it on our data. I have used <b> paraphrase-xlm-r-multilingual-v1 </b> from sentence transformers , one can try with other very good models also . I have uploaded all models for offline use [here](https://www.kaggle.com/tanulsingh077/sentence-transformer-models)\n",
    "\n",
    "One more additional thing which has come as a result of experimentation is to train with full data instead of splitting and then saving models on eval set. To avoid overfitting one can use strong regularizers like using fully connected layer on top of bert output , weight decay,etc\n",
    "\n",
    "This is the inference notebook , you can find the training notebook [here](https://www.kaggle.com/tanulsingh077/metric-learning-pipeline-only-text-sbert)\n",
    "\n",
    "# Additional Utils\n",
    "\n",
    "I have added a function get_neighbours_cos_sim which is cosine similarity equivalent for ragnar's get_neighbours function for knn. Now one can use both to find the best threshold and see which similarity function works best for you ,<b> one thing to note however is that normalize the embeddings if you use cosine similarity</b>"
   ]
  },
  {
   "cell_type": "code",
   "execution_count": 1,
   "id": "c032eef8",
   "metadata": {
    "execution": {
     "iopub.execute_input": "2022-01-02T12:46:57.791600Z",
     "iopub.status.busy": "2022-01-02T12:46:57.789648Z",
     "iopub.status.idle": "2022-01-02T12:47:01.720286Z",
     "shell.execute_reply": "2022-01-02T12:47:01.720838Z",
     "shell.execute_reply.started": "2022-01-01T14:13:55.43008Z"
    },
    "papermill": {
     "duration": 3.967403,
     "end_time": "2022-01-02T12:47:01.721163",
     "exception": false,
     "start_time": "2022-01-02T12:46:57.753760",
     "status": "completed"
    },
    "tags": []
   },
   "outputs": [],
   "source": [
    "import sys\n",
    "sys.path.append('../input/timm-pytorch-image-models/pytorch-image-models-master')\n",
    "import timm"
   ]
  },
  {
   "cell_type": "code",
   "execution_count": 2,
   "id": "2e6c8be7",
   "metadata": {
    "execution": {
     "iopub.execute_input": "2022-01-02T12:47:01.793642Z",
     "iopub.status.busy": "2022-01-02T12:47:01.792591Z",
     "iopub.status.idle": "2022-01-02T12:47:01.796882Z",
     "shell.execute_reply": "2022-01-02T12:47:01.797609Z",
     "shell.execute_reply.started": "2022-01-01T14:13:58.717156Z"
    },
    "papermill": {
     "duration": 0.044449,
     "end_time": "2022-01-02T12:47:01.797777",
     "exception": false,
     "start_time": "2022-01-02T12:47:01.753328",
     "status": "completed"
    },
    "tags": []
   },
   "outputs": [
    {
     "data": {
      "text/plain": [
       "'0.5.0'"
      ]
     },
     "execution_count": 2,
     "metadata": {},
     "output_type": "execute_result"
    }
   ],
   "source": [
    "timm.__version__"
   ]
  },
  {
   "cell_type": "code",
   "execution_count": 3,
   "id": "4a2c1042",
   "metadata": {
    "execution": {
     "iopub.execute_input": "2022-01-02T12:47:01.870779Z",
     "iopub.status.busy": "2022-01-02T12:47:01.869895Z",
     "iopub.status.idle": "2022-01-02T12:47:07.681589Z",
     "shell.execute_reply": "2022-01-02T12:47:07.682083Z",
     "shell.execute_reply.started": "2022-01-01T14:13:58.729358Z"
    },
    "papermill": {
     "duration": 5.852173,
     "end_time": "2022-01-02T12:47:07.682331",
     "exception": false,
     "start_time": "2022-01-02T12:47:01.830158",
     "status": "completed"
    },
    "tags": []
   },
   "outputs": [],
   "source": [
    "# Preliminaries\n",
    "from tqdm import tqdm\n",
    "import math\n",
    "import random\n",
    "import os\n",
    "import pandas as pd\n",
    "import numpy as np\n",
    "\n",
    "#torch\n",
    "import torch\n",
    "import timm\n",
    "import torch.nn as nn\n",
    "from torch.nn import Parameter\n",
    "from torch.nn import functional as F\n",
    "from torch.utils.data import Dataset,DataLoader\n",
    "\n",
    "# Visuals and CV2\n",
    "import cv2\n",
    "\n",
    "# albumentations for augs\n",
    "import albumentations\n",
    "from albumentations.pytorch.transforms import ToTensorV2\n",
    "\n",
    "import transformers\n",
    "\n",
    "import gc\n",
    "import matplotlib.pyplot as plt\n",
    "# from sklearn.neighbors import NearestNeighbors\n",
    "import cudf\n",
    "import cuml\n",
    "import cupy\n",
    "\n",
    "from cuml.feature_extraction.text import TfidfVectorizer\n",
    "from cuml import PCA\n",
    "from cuml.neighbors import NearestNeighbors\n",
    "from sklearn.preprocessing import Normalizer"
   ]
  },
  {
   "cell_type": "markdown",
   "id": "52f68b2d",
   "metadata": {
    "papermill": {
     "duration": 0.031545,
     "end_time": "2022-01-02T12:47:07.745866",
     "exception": false,
     "start_time": "2022-01-02T12:47:07.714321",
     "status": "completed"
    },
    "tags": []
   },
   "source": [
    "# Test Configuration"
   ]
  },
  {
   "cell_type": "code",
   "execution_count": 4,
   "id": "a5e1a22d",
   "metadata": {
    "execution": {
     "iopub.execute_input": "2022-01-02T12:47:07.830015Z",
     "iopub.status.busy": "2022-01-02T12:47:07.829273Z",
     "iopub.status.idle": "2022-01-02T12:47:15.480927Z",
     "shell.execute_reply": "2022-01-02T12:47:15.480058Z",
     "shell.execute_reply.started": "2022-01-01T14:14:03.604152Z"
    },
    "papermill": {
     "duration": 7.70363,
     "end_time": "2022-01-02T12:47:15.481142",
     "exception": false,
     "start_time": "2022-01-02T12:47:07.777512",
     "status": "completed"
    },
    "tags": []
   },
   "outputs": [
    {
     "name": "stdout",
     "output_type": "stream",
     "text": [
      "this submission notebook will compute CV score, but commit notebook will not\n"
     ]
    }
   ],
   "source": [
    "DIM = (512,512)\n",
    "\n",
    "NUM_WORKERS = 4\n",
    "BATCH_SIZE = 16\n",
    "SEED = 42\n",
    "\n",
    "NUM_WORKERS_img= 4\n",
    "BATCH_SIZE_img = 16\n",
    "SEED_img = 2020\n",
    "\n",
    "device = torch.device('cuda')\n",
    "\n",
    "CLASSES = 11014\n",
    "\n",
    "#########################################  ADJUSTING FOR CV OR SUBMIT ##########################################\n",
    "\n",
    "CHECK_SUB = False\n",
    "GET_CV = True\n",
    "\n",
    "#CHECK_SUB = True\n",
    "#GET_CV = False\n",
    "\n",
    "test = pd.read_csv('../input/shopee-product-matching/test.csv')\n",
    "if len(test)>3: GET_CV = False\n",
    "else: print('this submission notebook will compute CV score, but commit notebook will not')\n",
    "\n",
    "\n",
    "################################################### MODEL ######################################################\n",
    "\n",
    "transformer_model = '../input/sentence-transformer-models/paraphrase-xlm-r-multilingual-v1/0_Transformer'\n",
    "TOKENIZER = transformers.AutoTokenizer.from_pretrained(transformer_model)\n",
    "\n",
    "model_name_img = 'efficientnet_b3' #efficientnet_b0-b7\n",
    "\n",
    "################################################## MODEL PATH ##################################################\n",
    "\n",
    "TEXT_MODEL_PATH = '../input/best-multilingual-model/sentence_transfomer_xlm_best_loss_num_epochs_25_arcface.bin'\n",
    "IMG_MODEL_PATH = '../input/arcface-model-v2/model_efficientnet_b3_IMG_SIZE_512_arcface_24.pth'\n",
    "\n",
    "model_params = {\n",
    "    'n_classes':11014,\n",
    "    'model_name':transformer_model,\n",
    "    'use_fc':False,\n",
    "    'fc_dim':512,\n",
    "    'dropout':0.3,\n",
    "}\n",
    "\n",
    "########################################## Metric Loss and its params ##########################################\n",
    "loss_module = 'arcface' # 'arcface' #'cosface' #'adacos'\n",
    "s = 30.0\n",
    "m = 0.5 \n",
    "ls_eps = 0.0\n",
    "easy_margin = False"
   ]
  },
  {
   "cell_type": "markdown",
   "id": "8ef70994",
   "metadata": {
    "papermill": {
     "duration": 0.032912,
     "end_time": "2022-01-02T12:47:15.547755",
     "exception": false,
     "start_time": "2022-01-02T12:47:15.514843",
     "status": "completed"
    },
    "tags": []
   },
   "source": [
    "# Reading Data"
   ]
  },
  {
   "cell_type": "code",
   "execution_count": 5,
   "id": "a1b7e543",
   "metadata": {
    "execution": {
     "iopub.execute_input": "2022-01-02T12:47:15.626089Z",
     "iopub.status.busy": "2022-01-02T12:47:15.623866Z",
     "iopub.status.idle": "2022-01-02T12:47:15.626811Z",
     "shell.execute_reply": "2022-01-02T12:47:15.627476Z",
     "shell.execute_reply.started": "2022-01-01T14:14:09.836597Z"
    },
    "papermill": {
     "duration": 0.044898,
     "end_time": "2022-01-02T12:47:15.627623",
     "exception": false,
     "start_time": "2022-01-02T12:47:15.582725",
     "status": "completed"
    },
    "tags": []
   },
   "outputs": [],
   "source": [
    "def read_dataset():\n",
    "    if GET_CV:\n",
    "        df = pd.read_csv('../input/shopee-product-matching/train.csv')\n",
    "        tmp = df.groupby(['label_group'])['posting_id'].unique().to_dict()\n",
    "        df['matches'] = df['label_group'].map(tmp)\n",
    "        df['matches'] = df['matches'].apply(lambda x: ' '.join(x))\n",
    "        if CHECK_SUB:\n",
    "            df = pd.concat([df, df], axis = 0)\n",
    "            df.reset_index(drop = True, inplace = True)\n",
    "        df_cu = cudf.DataFrame(df)\n",
    "        image_paths = '../input/shopee-product-matching/train_images/' + df['image']\n",
    "    else:\n",
    "        df = pd.read_csv('../input/shopee-product-matching/test.csv')\n",
    "        df_cu = cudf.DataFrame(df)\n",
    "        image_paths = '../input/shopee-product-matching/test_images/' + df['image']\n",
    "        \n",
    "    return df, df_cu, image_paths"
   ]
  },
  {
   "cell_type": "markdown",
   "id": "56c0bcf9",
   "metadata": {
    "papermill": {
     "duration": 0.03215,
     "end_time": "2022-01-02T12:47:15.692870",
     "exception": false,
     "start_time": "2022-01-02T12:47:15.660720",
     "status": "completed"
    },
    "tags": []
   },
   "source": [
    "# Utils"
   ]
  },
  {
   "cell_type": "code",
   "execution_count": 6,
   "id": "81aafa8b",
   "metadata": {
    "execution": {
     "iopub.execute_input": "2022-01-02T12:47:15.765778Z",
     "iopub.status.busy": "2022-01-02T12:47:15.763593Z",
     "iopub.status.idle": "2022-01-02T12:47:15.766542Z",
     "shell.execute_reply": "2022-01-02T12:47:15.767084Z",
     "shell.execute_reply.started": "2022-01-01T14:14:09.84886Z"
    },
    "papermill": {
     "duration": 0.042441,
     "end_time": "2022-01-02T12:47:15.767282",
     "exception": false,
     "start_time": "2022-01-02T12:47:15.724841",
     "status": "completed"
    },
    "tags": []
   },
   "outputs": [],
   "source": [
    "def seed_torch(seed=42):\n",
    "    random.seed(seed)\n",
    "    os.environ['PYTHONHASHSEED'] = str(seed)\n",
    "    np.random.seed(seed)\n",
    "    torch.manual_seed(seed)\n",
    "    torch.cuda.manual_seed(seed)\n",
    "    torch.backends.cudnn.deterministic = True\n",
    "    \n",
    "#seed_torch(SEED)"
   ]
  },
  {
   "cell_type": "code",
   "execution_count": 7,
   "id": "89cf5d60",
   "metadata": {
    "execution": {
     "iopub.execute_input": "2022-01-02T12:47:15.839588Z",
     "iopub.status.busy": "2022-01-02T12:47:15.838517Z",
     "iopub.status.idle": "2022-01-02T12:47:15.841864Z",
     "shell.execute_reply": "2022-01-02T12:47:15.841361Z",
     "shell.execute_reply.started": "2022-01-01T14:14:09.860001Z"
    },
    "papermill": {
     "duration": 0.042466,
     "end_time": "2022-01-02T12:47:15.842010",
     "exception": false,
     "start_time": "2022-01-02T12:47:15.799544",
     "status": "completed"
    },
    "tags": []
   },
   "outputs": [],
   "source": [
    "def f1_score(y_true, y_pred):\n",
    "    y_true = y_true.apply(lambda x: set(x.split()))\n",
    "    y_pred = y_pred.apply(lambda x: set(x.split()))\n",
    "    intersection = np.array([len(x[0] & x[1]) for x in zip(y_true, y_pred)])\n",
    "    len_y_pred = y_pred.apply(lambda x: len(x)).values\n",
    "    len_y_true = y_true.apply(lambda x: len(x)).values\n",
    "    f1 = 2 * intersection / (len_y_pred + len_y_true)\n",
    "    return f1"
   ]
  },
  {
   "cell_type": "code",
   "execution_count": 8,
   "id": "bbc6dbac",
   "metadata": {
    "execution": {
     "iopub.execute_input": "2022-01-02T12:47:15.925267Z",
     "iopub.status.busy": "2022-01-02T12:47:15.923127Z",
     "iopub.status.idle": "2022-01-02T12:47:15.926019Z",
     "shell.execute_reply": "2022-01-02T12:47:15.926782Z",
     "shell.execute_reply.started": "2022-01-01T14:14:09.868966Z"
    },
    "papermill": {
     "duration": 0.053242,
     "end_time": "2022-01-02T12:47:15.927205",
     "exception": false,
     "start_time": "2022-01-02T12:47:15.873963",
     "status": "completed"
    },
    "tags": []
   },
   "outputs": [],
   "source": [
    "def get_neighbors(df, embeddings, KNN = 50, image = True):\n",
    "    '''\n",
    "    https://www.kaggle.com/ragnar123/unsupervised-baseline-arcface?scriptVersionId=57121538\n",
    "    '''\n",
    "\n",
    "    model = NearestNeighbors(n_neighbors = KNN)\n",
    "    model.fit(embeddings)\n",
    "    distances, indices = model.kneighbors(embeddings)\n",
    "    \n",
    "    # Iterate through different thresholds to maximize cv, run this in interactive mode, then replace else clause with a solid threshold\n",
    "    if GET_CV:\n",
    "        if image:\n",
    "            thresholds = list(np.arange(2,4,0.1))\n",
    "        else:\n",
    "            thresholds = list(np.arange(0, 2, 0.1))\n",
    "        scores = []\n",
    "        for threshold in thresholds:\n",
    "            predictions = []\n",
    "            for k in range(embeddings.shape[0]):\n",
    "                idx = np.where(distances[k,] < threshold)[0]\n",
    "                ids = indices[k,idx]\n",
    "                posting_ids = ' '.join(df['posting_id'].iloc[ids].values)\n",
    "                predictions.append(posting_ids)\n",
    "            df['pred_matches'] = predictions\n",
    "            df['f1'] = f1_score(df['matches'], df['pred_matches'])\n",
    "            score = df['f1'].mean()\n",
    "            print(f'Our f1 score for threshold {threshold} is {score}')\n",
    "            scores.append(score)\n",
    "        thresholds_scores = pd.DataFrame({'thresholds': thresholds, 'scores': scores})\n",
    "        max_score = thresholds_scores[thresholds_scores['scores'] == thresholds_scores['scores'].max()]\n",
    "        best_threshold = max_score['thresholds'].values[0]\n",
    "        best_score = max_score['scores'].values[0]\n",
    "        print(f'Our best score is {best_score} and has a threshold {best_threshold}')\n",
    "        \n",
    "        # Use threshold\n",
    "        predictions = []\n",
    "        for k in range(embeddings.shape[0]):\n",
    "            # Because we are predicting the test set that have 70K images and different label groups, confidence should be smaller\n",
    "            if image:\n",
    "                idx = np.where(distances[k,] < 2.7)[0]\n",
    "            else:\n",
    "                idx = np.where(distances[k,] < 0.60)[0]\n",
    "            ids = indices[k,idx]\n",
    "            posting_ids = df['posting_id'].iloc[ids].values\n",
    "            predictions.append(posting_ids)\n",
    "    \n",
    "    # Because we are predicting the test set that have 70K images and different label groups, confidence should be smaller\n",
    "    else:\n",
    "        predictions = []\n",
    "        for k in tqdm(range(embeddings.shape[0])):\n",
    "            if image:\n",
    "                idx = np.where(distances[k,] < 2.7)[0]\n",
    "            else:\n",
    "                idx = np.where(distances[k,] < 0.60)[0]\n",
    "            ids = indices[k,idx]\n",
    "            posting_ids = df['posting_id'].iloc[ids].values\n",
    "            predictions.append(posting_ids)\n",
    "        \n",
    "    del model, distances, indices\n",
    "    gc.collect()\n",
    "    return df, predictions"
   ]
  },
  {
   "cell_type": "markdown",
   "id": "87acee72",
   "metadata": {
    "papermill": {
     "duration": 0.032096,
     "end_time": "2022-01-02T12:47:16.005730",
     "exception": false,
     "start_time": "2022-01-02T12:47:15.973634",
     "status": "completed"
    },
    "tags": []
   },
   "source": [
    "# -------------------------------- Text Part --------------------------------"
   ]
  },
  {
   "cell_type": "markdown",
   "id": "955367fe",
   "metadata": {
    "papermill": {
     "duration": 0.032971,
     "end_time": "2022-01-02T12:47:16.072241",
     "exception": false,
     "start_time": "2022-01-02T12:47:16.039270",
     "status": "completed"
    },
    "tags": []
   },
   "source": [
    "# [Text] Generating Embeddings"
   ]
  },
  {
   "cell_type": "code",
   "execution_count": 9,
   "id": "97cfa8dd",
   "metadata": {
    "execution": {
     "iopub.execute_input": "2022-01-02T12:47:16.147477Z",
     "iopub.status.busy": "2022-01-02T12:47:16.146353Z",
     "iopub.status.idle": "2022-01-02T12:47:16.149021Z",
     "shell.execute_reply": "2022-01-02T12:47:16.149652Z",
     "shell.execute_reply.started": "2022-01-01T14:14:09.886152Z"
    },
    "papermill": {
     "duration": 0.04483,
     "end_time": "2022-01-02T12:47:16.149824",
     "exception": false,
     "start_time": "2022-01-02T12:47:16.104994",
     "status": "completed"
    },
    "tags": []
   },
   "outputs": [],
   "source": [
    "class ShopeeDataset(Dataset):\n",
    "    def __init__(self, csv):\n",
    "        self.csv = csv.reset_index()\n",
    "\n",
    "    def __len__(self):\n",
    "        return self.csv.shape[0]\n",
    "\n",
    "    def __getitem__(self, index):\n",
    "        row = self.csv.iloc[index]\n",
    "        \n",
    "        text = row.title\n",
    "        \n",
    "        text = TOKENIZER(text, padding='max_length', truncation=True, max_length=128, return_tensors=\"pt\")\n",
    "        input_ids = text['input_ids'][0]\n",
    "        attention_mask = text['attention_mask'][0]  \n",
    "        \n",
    "        return input_ids, attention_mask"
   ]
  },
  {
   "cell_type": "code",
   "execution_count": 10,
   "id": "5337c82d",
   "metadata": {
    "execution": {
     "iopub.execute_input": "2022-01-02T12:47:16.229747Z",
     "iopub.status.busy": "2022-01-02T12:47:16.228488Z",
     "iopub.status.idle": "2022-01-02T12:47:16.231064Z",
     "shell.execute_reply": "2022-01-02T12:47:16.231710Z",
     "shell.execute_reply.started": "2022-01-01T14:14:09.898565Z"
    },
    "papermill": {
     "duration": 0.048604,
     "end_time": "2022-01-02T12:47:16.231856",
     "exception": false,
     "start_time": "2022-01-02T12:47:16.183252",
     "status": "completed"
    },
    "tags": []
   },
   "outputs": [],
   "source": [
    "class ShopeeNet(nn.Module):\n",
    "\n",
    "    def __init__(self,\n",
    "                 n_classes,\n",
    "                 model_name='bert-base-uncased',\n",
    "                 use_fc=False,\n",
    "                 fc_dim=512,\n",
    "                 dropout=0.0):\n",
    "        \"\"\"\n",
    "        :param n_classes:\n",
    "        :param model_name: name of model from pretrainedmodels\n",
    "            e.g. resnet50, resnext101_32x4d, pnasnet5large\n",
    "        :param pooling: One of ('SPoC', 'MAC', 'RMAC', 'GeM', 'Rpool', 'Flatten', 'CompactBilinearPooling')\n",
    "        :param loss_module: One of ('arcface', 'cosface', 'softmax')\n",
    "        \"\"\"\n",
    "        super(ShopeeNet, self).__init__()\n",
    "\n",
    "        self.transformer = transformers.AutoModel.from_pretrained(model_name)\n",
    "        final_in_features = self.transformer.config.hidden_size\n",
    "        \n",
    "        self.use_fc = use_fc\n",
    "    \n",
    "        if use_fc:\n",
    "            self.dropout = nn.Dropout(p=dropout)\n",
    "            self.fc = nn.Linear(final_in_features, fc_dim)\n",
    "            self.bn = nn.BatchNorm1d(fc_dim)\n",
    "            self._init_params()\n",
    "            final_in_features = fc_dim\n",
    "\n",
    "\n",
    "    def _init_params(self):\n",
    "        nn.init.xavier_normal_(self.fc.weight)\n",
    "        nn.init.constant_(self.fc.bias, 0)\n",
    "        nn.init.constant_(self.bn.weight, 1)\n",
    "        nn.init.constant_(self.bn.bias, 0)\n",
    "\n",
    "    def forward(self, input_ids,attention_mask):\n",
    "        feature = self.extract_feat(input_ids,attention_mask)\n",
    "        return F.normalize(feature)\n",
    "\n",
    "    def extract_feat(self, input_ids,attention_mask):\n",
    "        x = self.transformer(input_ids=input_ids,attention_mask=attention_mask)\n",
    "        \n",
    "        features = x[0]\n",
    "        features = features[:,0,:]\n",
    "\n",
    "        if self.use_fc:\n",
    "            features = self.dropout(features)\n",
    "            features = self.fc(features)\n",
    "            features = self.bn(features)\n",
    "\n",
    "        return features"
   ]
  },
  {
   "cell_type": "code",
   "execution_count": 11,
   "id": "bd30b6c2",
   "metadata": {
    "execution": {
     "iopub.execute_input": "2022-01-02T12:47:16.308698Z",
     "iopub.status.busy": "2022-01-02T12:47:16.307521Z",
     "iopub.status.idle": "2022-01-02T12:47:16.310923Z",
     "shell.execute_reply": "2022-01-02T12:47:16.310376Z",
     "shell.execute_reply.started": "2022-01-01T14:14:09.910544Z"
    },
    "papermill": {
     "duration": 0.045715,
     "end_time": "2022-01-02T12:47:16.311070",
     "exception": false,
     "start_time": "2022-01-02T12:47:16.265355",
     "status": "completed"
    },
    "tags": []
   },
   "outputs": [],
   "source": [
    "def get_text_embeddings(df):\n",
    "    embeds = []\n",
    "    \n",
    "    model = ShopeeNet(**model_params)\n",
    "    model.eval()\n",
    "    \n",
    "    model.load_state_dict(dict(list(torch.load(TEXT_MODEL_PATH).items())[:-1]))\n",
    "    model = model.to(device)\n",
    "\n",
    "    text_dataset = ShopeeDataset(df)\n",
    "    text_loader = torch.utils.data.DataLoader(\n",
    "        text_dataset,\n",
    "        batch_size=BATCH_SIZE,\n",
    "        pin_memory=True,\n",
    "        drop_last=False,\n",
    "        num_workers=NUM_WORKERS\n",
    "    )\n",
    "    \n",
    "    \n",
    "    with torch.no_grad():\n",
    "        for input_ids, attention_mask in tqdm(text_loader): \n",
    "            input_ids = input_ids.cuda()\n",
    "            attention_mask = attention_mask.cuda()\n",
    "            feat = model(input_ids, attention_mask)\n",
    "            text_embeddings = feat.detach().cpu().numpy()\n",
    "            embeds.append(text_embeddings)\n",
    "    \n",
    "    \n",
    "    del model\n",
    "    text_embeddings = np.concatenate(embeds)\n",
    "    print(f'Our text embeddings shape is {text_embeddings.shape}')\n",
    "    del embeds\n",
    "    gc.collect()\n",
    "    return text_embeddings"
   ]
  },
  {
   "cell_type": "markdown",
   "id": "b341f534",
   "metadata": {
    "papermill": {
     "duration": 0.032592,
     "end_time": "2022-01-02T12:47:16.377096",
     "exception": false,
     "start_time": "2022-01-02T12:47:16.344504",
     "status": "completed"
    },
    "tags": []
   },
   "source": [
    "# -------------------------------- Image Part --------------------------------"
   ]
  },
  {
   "cell_type": "markdown",
   "id": "ca0175a4",
   "metadata": {
    "papermill": {
     "duration": 0.032827,
     "end_time": "2022-01-02T12:47:16.442708",
     "exception": false,
     "start_time": "2022-01-02T12:47:16.409881",
     "status": "completed"
    },
    "tags": []
   },
   "source": [
    "# [IMG] Generating Embeddings"
   ]
  },
  {
   "cell_type": "code",
   "execution_count": 12,
   "id": "c4ca5dd6",
   "metadata": {
    "execution": {
     "iopub.execute_input": "2022-01-02T12:47:16.515289Z",
     "iopub.status.busy": "2022-01-02T12:47:16.514149Z",
     "iopub.status.idle": "2022-01-02T12:47:16.516694Z",
     "shell.execute_reply": "2022-01-02T12:47:16.517246Z",
     "shell.execute_reply.started": "2022-01-01T14:14:09.922835Z"
    },
    "papermill": {
     "duration": 0.042252,
     "end_time": "2022-01-02T12:47:16.517403",
     "exception": false,
     "start_time": "2022-01-02T12:47:16.475151",
     "status": "completed"
    },
    "tags": []
   },
   "outputs": [],
   "source": [
    "def get_test_transforms():\n",
    "\n",
    "    return albumentations.Compose(\n",
    "        [\n",
    "            albumentations.Resize(DIM[0],DIM[1],always_apply=True),\n",
    "            albumentations.Normalize(),\n",
    "        ToTensorV2(p=1.0)\n",
    "        ]\n",
    "    )"
   ]
  },
  {
   "cell_type": "code",
   "execution_count": 13,
   "id": "456b71d2",
   "metadata": {
    "execution": {
     "iopub.execute_input": "2022-01-02T12:47:16.591992Z",
     "iopub.status.busy": "2022-01-02T12:47:16.589856Z",
     "iopub.status.idle": "2022-01-02T12:47:16.592775Z",
     "shell.execute_reply": "2022-01-02T12:47:16.593437Z",
     "shell.execute_reply.started": "2022-01-01T14:14:09.934106Z"
    },
    "papermill": {
     "duration": 0.043936,
     "end_time": "2022-01-02T12:47:16.593600",
     "exception": false,
     "start_time": "2022-01-02T12:47:16.549664",
     "status": "completed"
    },
    "tags": []
   },
   "outputs": [],
   "source": [
    "class ShopeeDataset_img(Dataset):\n",
    "    def __init__(self, image_paths, transforms=None):\n",
    "\n",
    "        self.image_paths = image_paths\n",
    "        self.augmentations = transforms\n",
    "\n",
    "    def __len__(self):\n",
    "        return self.image_paths.shape[0]\n",
    "\n",
    "    def __getitem__(self, index):\n",
    "        image_path = self.image_paths[index]\n",
    "        \n",
    "        image = cv2.imread(image_path)\n",
    "        image = cv2.cvtColor(image, cv2.COLOR_BGR2RGB)\n",
    "        \n",
    "        if self.augmentations:\n",
    "            augmented = self.augmentations(image=image)\n",
    "            image = augmented['image']       \n",
    "        \n",
    "        \n",
    "        return image,torch.tensor(1)"
   ]
  },
  {
   "cell_type": "code",
   "execution_count": 14,
   "id": "ef1aa545",
   "metadata": {
    "execution": {
     "iopub.execute_input": "2022-01-02T12:47:16.677465Z",
     "iopub.status.busy": "2022-01-02T12:47:16.676300Z",
     "iopub.status.idle": "2022-01-02T12:47:16.678498Z",
     "shell.execute_reply": "2022-01-02T12:47:16.679561Z",
     "shell.execute_reply.started": "2022-01-01T14:14:09.945572Z"
    },
    "papermill": {
     "duration": 0.053869,
     "end_time": "2022-01-02T12:47:16.679709",
     "exception": false,
     "start_time": "2022-01-02T12:47:16.625840",
     "status": "completed"
    },
    "tags": []
   },
   "outputs": [],
   "source": [
    "class ShopeeNet_img(nn.Module):\n",
    "\n",
    "    def __init__(self,\n",
    "                 n_classes,\n",
    "                 model_name_img='efficientnet_b0',\n",
    "                 use_fc=False,\n",
    "                 fc_dim=512,\n",
    "                 dropout=0.0,\n",
    "                 loss_module='softmax',\n",
    "                 s=30.0,\n",
    "                 margin=0.50,\n",
    "                 ls_eps=0.0,\n",
    "                 theta_zero=0.785,\n",
    "                 pretrained=False):\n",
    "        \"\"\"\n",
    "        :param n_classes:\n",
    "        :param model_name_img: name of model from pretrainedmodels\n",
    "            e.g. resnet50, resnext101_32x4d, pnasnet5large\n",
    "        :param pooling: One of ('SPoC', 'MAC', 'RMAC', 'GeM', 'Rpool', 'Flatten', 'CompactBilinearPooling')\n",
    "        :param loss_module: One of ('arcface', 'cosface', 'softmax')\n",
    "        \"\"\"\n",
    "        super(ShopeeNet_img, self).__init__()\n",
    "        print('Model building for {} backbone'.format(model_name_img))\n",
    "\n",
    "        self.backbone = timm.create_model(model_name_img, pretrained=pretrained)\n",
    "        final_in_features = self.backbone.classifier.in_features\n",
    "        \n",
    "        self.backbone.classifier = nn.Identity()\n",
    "        self.backbone.global_pool = nn.Identity()\n",
    "        \n",
    "        self.pooling =  nn.AdaptiveAvgPool2d(1)\n",
    "            \n",
    "        self.use_fc = use_fc\n",
    "        if use_fc:\n",
    "            self.dropout = nn.Dropout(p=dropout)\n",
    "            self.fc = nn.Linear(final_in_features, fc_dim)\n",
    "            self.bn = nn.BatchNorm1d(fc_dim)\n",
    "            self._init_params()\n",
    "            final_in_features = fc_dim\n",
    "\n",
    "        self.loss_module = loss_module\n",
    "        if loss_module == 'arcface':\n",
    "            self.final = ArcMarginProduct(final_in_features, n_classes,\n",
    "                                          s=s, m=margin, easy_margin=False, ls_eps=ls_eps)\n",
    "        elif loss_module == 'cosface':\n",
    "            self.final = AddMarginProduct(final_in_features, n_classes, s=s, m=margin)\n",
    "        elif loss_module == 'adacos':\n",
    "            self.final = AdaCos(final_in_features, n_classes, m=margin, theta_zero=theta_zero)\n",
    "        else:\n",
    "            self.final = nn.Linear(final_in_features, n_classes)\n",
    "\n",
    "    def _init_params(self):\n",
    "        nn.init.xavier_normal_(self.fc.weight)\n",
    "        nn.init.constant_(self.fc.bias, 0)\n",
    "        nn.init.constant_(self.bn.weight, 1)\n",
    "        nn.init.constant_(self.bn.bias, 0)\n",
    "\n",
    "    def forward(self, x, label):\n",
    "        feature = self.extract_feat(x)\n",
    "        if self.loss_module in ('arcface', 'cosface', 'adacos'):\n",
    "            logits = self.final(feature, label)\n",
    "        else:\n",
    "            logits = self.final(feature)\n",
    "        return feature,logits\n",
    "\n",
    "    def extract_feat(self, x):\n",
    "        batch_size = x.shape[0]\n",
    "        x = self.backbone(x)\n",
    "        x = self.pooling(x).view(batch_size, -1)\n",
    "\n",
    "        if self.use_fc:\n",
    "            x = self.dropout(x)\n",
    "            x = self.fc(x)\n",
    "            x = self.bn(x)\n",
    "\n",
    "        return x"
   ]
  },
  {
   "cell_type": "code",
   "execution_count": 15,
   "id": "0c16e074",
   "metadata": {
    "execution": {
     "iopub.execute_input": "2022-01-02T12:47:16.759560Z",
     "iopub.status.busy": "2022-01-02T12:47:16.758387Z",
     "iopub.status.idle": "2022-01-02T12:47:16.761711Z",
     "shell.execute_reply": "2022-01-02T12:47:16.761193Z",
     "shell.execute_reply.started": "2022-01-01T14:14:09.963905Z"
    },
    "papermill": {
     "duration": 0.049276,
     "end_time": "2022-01-02T12:47:16.761862",
     "exception": false,
     "start_time": "2022-01-02T12:47:16.712586",
     "status": "completed"
    },
    "tags": []
   },
   "outputs": [],
   "source": [
    "class AdaCos(nn.Module):\n",
    "    def __init__(self, in_features, out_features, m=0.50, ls_eps=0, theta_zero=math.pi/4):\n",
    "        super(AdaCos, self).__init__()\n",
    "        self.in_features = in_features\n",
    "        self.out_features = out_features\n",
    "        self.theta_zero = theta_zero\n",
    "        self.s = math.log(out_features - 1) / math.cos(theta_zero)\n",
    "        self.m = m\n",
    "        self.ls_eps = ls_eps  # label smoothing\n",
    "        self.weight = Parameter(torch.FloatTensor(out_features, in_features))\n",
    "        nn.init.xavier_uniform_(self.weight)\n",
    "\n",
    "    def forward(self, input, label):\n",
    "        # normalize features\n",
    "        x = F.normalize(input)\n",
    "        # normalize weights\n",
    "        W = F.normalize(self.weight)\n",
    "        # dot product\n",
    "        logits = F.linear(x, W)\n",
    "        # add margin\n",
    "        theta = torch.acos(torch.clamp(logits, -1.0 + 1e-7, 1.0 - 1e-7))\n",
    "        target_logits = torch.cos(theta + self.m)\n",
    "        one_hot = torch.zeros_like(logits)\n",
    "        one_hot.scatter_(1, label.view(-1, 1).long(), 1)\n",
    "        if self.ls_eps > 0:\n",
    "            one_hot = (1 - self.ls_eps) * one_hot + self.ls_eps / self.out_features\n",
    "        output = logits * (1 - one_hot) + target_logits * one_hot\n",
    "        # feature re-scale\n",
    "        with torch.no_grad():\n",
    "            B_avg = torch.where(one_hot < 1, torch.exp(self.s * logits), torch.zeros_like(logits))\n",
    "            B_avg = torch.sum(B_avg) / input.size(0)\n",
    "            theta_med = torch.median(theta)\n",
    "            self.s = torch.log(B_avg) / torch.cos(torch.min(self.theta_zero * torch.ones_like(theta_med), theta_med))\n",
    "        output *= self.s\n",
    "\n",
    "        return output"
   ]
  },
  {
   "cell_type": "code",
   "execution_count": 16,
   "id": "a2c10950",
   "metadata": {
    "execution": {
     "iopub.execute_input": "2022-01-02T12:47:16.840178Z",
     "iopub.status.busy": "2022-01-02T12:47:16.834675Z",
     "iopub.status.idle": "2022-01-02T12:47:16.843326Z",
     "shell.execute_reply": "2022-01-02T12:47:16.842735Z",
     "shell.execute_reply.started": "2022-01-01T14:14:09.979647Z"
    },
    "papermill": {
     "duration": 0.048953,
     "end_time": "2022-01-02T12:47:16.843514",
     "exception": false,
     "start_time": "2022-01-02T12:47:16.794561",
     "status": "completed"
    },
    "tags": []
   },
   "outputs": [],
   "source": [
    "class ArcMarginProduct(nn.Module):\n",
    "    r\"\"\"Implement of large margin arc distance: :\n",
    "        Args:\n",
    "            in_features: size of each input sample\n",
    "            out_features: size of each output sample\n",
    "            s: norm of input feature\n",
    "            m: margin\n",
    "            cos(theta + m)\n",
    "        \"\"\"\n",
    "    def __init__(self, in_features, out_features, s=30.0, m=0.50, easy_margin=False, ls_eps=0.0):\n",
    "        super(ArcMarginProduct, self).__init__()\n",
    "        self.in_features = in_features\n",
    "        self.out_features = out_features\n",
    "        self.s = s\n",
    "        self.m = m\n",
    "        self.ls_eps = ls_eps  # label smoothing\n",
    "        self.weight = Parameter(torch.FloatTensor(out_features, in_features))\n",
    "        nn.init.xavier_uniform_(self.weight)\n",
    "\n",
    "        self.easy_margin = easy_margin\n",
    "        self.cos_m = math.cos(m)\n",
    "        self.sin_m = math.sin(m)\n",
    "        self.th = math.cos(math.pi - m)\n",
    "        self.mm = math.sin(math.pi - m) * m\n",
    "\n",
    "    def forward(self, input, label):\n",
    "        # --------------------------- cos(theta) & phi(theta) ---------------------------\n",
    "        cosine = F.linear(F.normalize(input), F.normalize(self.weight))\n",
    "        sine = torch.sqrt(1.0 - torch.pow(cosine, 2))\n",
    "        phi = cosine * self.cos_m - sine * self.sin_m\n",
    "        if self.easy_margin:\n",
    "            phi = torch.where(cosine > 0, phi, cosine)\n",
    "        else:\n",
    "            phi = torch.where(cosine > self.th, phi, cosine - self.mm)\n",
    "        # --------------------------- convert label to one-hot ---------------------------\n",
    "        # one_hot = torch.zeros(cosine.size(), requires_grad=True, device='cuda')\n",
    "        one_hot = torch.zeros(cosine.size(), device='cuda')\n",
    "        one_hot.scatter_(1, label.view(-1, 1).long(), 1)\n",
    "        if self.ls_eps > 0:\n",
    "            one_hot = (1 - self.ls_eps) * one_hot + self.ls_eps / self.out_features\n",
    "        # -------------torch.where(out_i = {x_i if condition_i else y_i) -------------\n",
    "        output = (one_hot * phi) + ((1.0 - one_hot) * cosine)\n",
    "        output *= self.s\n",
    "\n",
    "        return output"
   ]
  },
  {
   "cell_type": "code",
   "execution_count": 17,
   "id": "1b1e7c58",
   "metadata": {
    "execution": {
     "iopub.execute_input": "2022-01-02T12:47:16.912040Z",
     "iopub.status.busy": "2022-01-02T12:47:16.910997Z",
     "iopub.status.idle": "2022-01-02T12:47:16.921258Z",
     "shell.execute_reply": "2022-01-02T12:47:16.920659Z",
     "shell.execute_reply.started": "2022-01-01T14:14:09.993559Z"
    },
    "papermill": {
     "duration": 0.045408,
     "end_time": "2022-01-02T12:47:16.921391",
     "exception": false,
     "start_time": "2022-01-02T12:47:16.875983",
     "status": "completed"
    },
    "tags": []
   },
   "outputs": [],
   "source": [
    "class AddMarginProduct(nn.Module):\n",
    "    r\"\"\"Implement of large margin cosine distance: :\n",
    "    Args:\n",
    "        in_features: size of each input sample\n",
    "        out_features: size of each output sample\n",
    "        s: norm of input feature\n",
    "        m: margin\n",
    "        cos(theta) - m\n",
    "    \"\"\"\n",
    "\n",
    "    def __init__(self, in_features, out_features, s=30.0, m=0.40):\n",
    "        super(AddMarginProduct, self).__init__()\n",
    "        self.in_features = in_features\n",
    "        self.out_features = out_features\n",
    "        self.s = s\n",
    "        self.m = m\n",
    "        self.weight = Parameter(torch.FloatTensor(out_features, in_features))\n",
    "        nn.init.xavier_uniform_(self.weight)\n",
    "\n",
    "    def forward(self, input, label):\n",
    "        # --------------------------- cos(theta) & phi(theta) ---------------------------\n",
    "        cosine = F.linear(F.normalize(input), F.normalize(self.weight))\n",
    "        phi = cosine - self.m\n",
    "        # --------------------------- convert label to one-hot ---------------------------\n",
    "        one_hot = torch.zeros(cosine.size(), device='cuda')\n",
    "        # one_hot = one_hot.cuda() if cosine.is_cuda else one_hot\n",
    "        one_hot.scatter_(1, label.view(-1, 1).long(), 1)\n",
    "        # -------------torch.where(out_i = {x_i if condition_i else y_i) -------------\n",
    "        output = (one_hot * phi) + ((1.0 - one_hot) * cosine)  # you can use torch.where if your torch.__version__ is 0.4\n",
    "        output *= self.s\n",
    "        # print(output)\n",
    "\n",
    "        return output"
   ]
  },
  {
   "cell_type": "code",
   "execution_count": 18,
   "id": "9504ca5f",
   "metadata": {
    "execution": {
     "iopub.execute_input": "2022-01-02T12:47:16.996542Z",
     "iopub.status.busy": "2022-01-02T12:47:16.995439Z",
     "iopub.status.idle": "2022-01-02T12:47:16.998257Z",
     "shell.execute_reply": "2022-01-02T12:47:16.998765Z",
     "shell.execute_reply.started": "2022-01-01T14:14:10.006112Z"
    },
    "papermill": {
     "duration": 0.044867,
     "end_time": "2022-01-02T12:47:16.998918",
     "exception": false,
     "start_time": "2022-01-02T12:47:16.954051",
     "status": "completed"
    },
    "tags": []
   },
   "outputs": [],
   "source": [
    "def get_image_embeddings(image_paths):\n",
    "    embeds = []\n",
    "    \n",
    "    model = ShopeeNet_img(n_classes=CLASSES,model_name_img=model_name_img)\n",
    "    model.eval()\n",
    "    \n",
    "    model.load_state_dict(torch.load(IMG_MODEL_PATH),strict=False)\n",
    "    model = model.to(device)\n",
    "\n",
    "    image_dataset = ShopeeDataset_img(image_paths=image_paths,transforms=get_test_transforms())\n",
    "    image_loader = torch.utils.data.DataLoader(\n",
    "        image_dataset,\n",
    "        batch_size=BATCH_SIZE_img,\n",
    "        pin_memory=True,\n",
    "        drop_last=False,\n",
    "        num_workers=NUM_WORKERS_img\n",
    "    )\n",
    "    \n",
    "    \n",
    "    with torch.no_grad():\n",
    "        for img,label in tqdm(image_loader): \n",
    "            img = img.cuda()\n",
    "            label = label.cuda()\n",
    "            feat, _ = model(img,label)\n",
    "            image_embeddings = feat.detach().cpu().numpy()\n",
    "            embeds.append(image_embeddings)\n",
    "    \n",
    "    \n",
    "    del model\n",
    "    image_embeddings = np.concatenate(embeds)\n",
    "    print(f'Our image embeddings shape is {image_embeddings.shape}')\n",
    "    del embeds\n",
    "    gc.collect()\n",
    "    return image_embeddings"
   ]
  },
  {
   "cell_type": "markdown",
   "id": "84fa1276",
   "metadata": {
    "papermill": {
     "duration": 0.032584,
     "end_time": "2022-01-02T12:47:17.064129",
     "exception": false,
     "start_time": "2022-01-02T12:47:17.031545",
     "status": "completed"
    },
    "tags": []
   },
   "source": [
    "# -------------------- Calculating Predictions --------------------"
   ]
  },
  {
   "cell_type": "code",
   "execution_count": 19,
   "id": "7276800e",
   "metadata": {
    "execution": {
     "iopub.execute_input": "2022-01-02T12:47:17.133021Z",
     "iopub.status.busy": "2022-01-02T12:47:17.132333Z",
     "iopub.status.idle": "2022-01-02T12:47:27.127419Z",
     "shell.execute_reply": "2022-01-02T12:47:27.126755Z",
     "shell.execute_reply.started": "2022-01-01T14:14:10.019226Z"
    },
    "papermill": {
     "duration": 10.03106,
     "end_time": "2022-01-02T12:47:27.127611",
     "exception": false,
     "start_time": "2022-01-02T12:47:17.096551",
     "status": "completed"
    },
    "tags": []
   },
   "outputs": [
    {
     "data": {
      "text/html": [
       "<div>\n",
       "<style scoped>\n",
       "    .dataframe tbody tr th:only-of-type {\n",
       "        vertical-align: middle;\n",
       "    }\n",
       "\n",
       "    .dataframe tbody tr th {\n",
       "        vertical-align: top;\n",
       "    }\n",
       "\n",
       "    .dataframe thead th {\n",
       "        text-align: right;\n",
       "    }\n",
       "</style>\n",
       "<table border=\"1\" class=\"dataframe\">\n",
       "  <thead>\n",
       "    <tr style=\"text-align: right;\">\n",
       "      <th></th>\n",
       "      <th>posting_id</th>\n",
       "      <th>image</th>\n",
       "      <th>image_phash</th>\n",
       "      <th>title</th>\n",
       "      <th>label_group</th>\n",
       "      <th>matches</th>\n",
       "    </tr>\n",
       "  </thead>\n",
       "  <tbody>\n",
       "    <tr>\n",
       "      <th>0</th>\n",
       "      <td>train_129225211</td>\n",
       "      <td>0000a68812bc7e98c42888dfb1c07da0.jpg</td>\n",
       "      <td>94974f937d4c2433</td>\n",
       "      <td>Paper Bag Victoria Secret</td>\n",
       "      <td>249114794</td>\n",
       "      <td>train_129225211 train_2278313361</td>\n",
       "    </tr>\n",
       "    <tr>\n",
       "      <th>1</th>\n",
       "      <td>train_3386243561</td>\n",
       "      <td>00039780dfc94d01db8676fe789ecd05.jpg</td>\n",
       "      <td>af3f9460c2838f0f</td>\n",
       "      <td>Double Tape 3M VHB 12 mm x 4,5 m ORIGINAL / DO...</td>\n",
       "      <td>2937985045</td>\n",
       "      <td>train_3386243561 train_3423213080</td>\n",
       "    </tr>\n",
       "    <tr>\n",
       "      <th>2</th>\n",
       "      <td>train_2288590299</td>\n",
       "      <td>000a190fdd715a2a36faed16e2c65df7.jpg</td>\n",
       "      <td>b94cb00ed3e50f78</td>\n",
       "      <td>Maling TTS Canned Pork Luncheon Meat 397 gr</td>\n",
       "      <td>2395904891</td>\n",
       "      <td>train_2288590299 train_3803689425</td>\n",
       "    </tr>\n",
       "    <tr>\n",
       "      <th>3</th>\n",
       "      <td>train_2406599165</td>\n",
       "      <td>00117e4fc239b1b641ff08340b429633.jpg</td>\n",
       "      <td>8514fc58eafea283</td>\n",
       "      <td>Daster Batik Lengan pendek - Motif Acak / Camp...</td>\n",
       "      <td>4093212188</td>\n",
       "      <td>train_2406599165 train_3342059966</td>\n",
       "    </tr>\n",
       "    <tr>\n",
       "      <th>4</th>\n",
       "      <td>train_3369186413</td>\n",
       "      <td>00136d1cf4edede0203f32f05f660588.jpg</td>\n",
       "      <td>a6f319f924ad708c</td>\n",
       "      <td>Nescafe \\xc3\\x89clair Latte 220ml</td>\n",
       "      <td>3648931069</td>\n",
       "      <td>train_3369186413 train_921438619</td>\n",
       "    </tr>\n",
       "  </tbody>\n",
       "</table>\n",
       "</div>"
      ],
      "text/plain": [
       "         posting_id                                 image       image_phash  \\\n",
       "0   train_129225211  0000a68812bc7e98c42888dfb1c07da0.jpg  94974f937d4c2433   \n",
       "1  train_3386243561  00039780dfc94d01db8676fe789ecd05.jpg  af3f9460c2838f0f   \n",
       "2  train_2288590299  000a190fdd715a2a36faed16e2c65df7.jpg  b94cb00ed3e50f78   \n",
       "3  train_2406599165  00117e4fc239b1b641ff08340b429633.jpg  8514fc58eafea283   \n",
       "4  train_3369186413  00136d1cf4edede0203f32f05f660588.jpg  a6f319f924ad708c   \n",
       "\n",
       "                                               title  label_group  \\\n",
       "0                          Paper Bag Victoria Secret    249114794   \n",
       "1  Double Tape 3M VHB 12 mm x 4,5 m ORIGINAL / DO...   2937985045   \n",
       "2        Maling TTS Canned Pork Luncheon Meat 397 gr   2395904891   \n",
       "3  Daster Batik Lengan pendek - Motif Acak / Camp...   4093212188   \n",
       "4                  Nescafe \\xc3\\x89clair Latte 220ml   3648931069   \n",
       "\n",
       "                             matches  \n",
       "0   train_129225211 train_2278313361  \n",
       "1  train_3386243561 train_3423213080  \n",
       "2  train_2288590299 train_3803689425  \n",
       "3  train_2406599165 train_3342059966  \n",
       "4   train_3369186413 train_921438619  "
      ]
     },
     "execution_count": 19,
     "metadata": {},
     "output_type": "execute_result"
    }
   ],
   "source": [
    "df,df_cu,image_paths = read_dataset()\n",
    "df.head()"
   ]
  },
  {
   "cell_type": "markdown",
   "id": "976fae56",
   "metadata": {
    "papermill": {
     "duration": 0.03411,
     "end_time": "2022-01-02T12:47:27.195920",
     "exception": false,
     "start_time": "2022-01-02T12:47:27.161810",
     "status": "completed"
    },
    "tags": []
   },
   "source": [
    "# [Text] Predictions"
   ]
  },
  {
   "cell_type": "code",
   "execution_count": 20,
   "id": "70b149df",
   "metadata": {
    "execution": {
     "iopub.execute_input": "2022-01-02T12:47:27.268830Z",
     "iopub.status.busy": "2022-01-02T12:47:27.267895Z",
     "iopub.status.idle": "2022-01-02T12:47:27.274384Z",
     "shell.execute_reply": "2022-01-02T12:47:27.273799Z"
    },
    "papermill": {
     "duration": 0.044899,
     "end_time": "2022-01-02T12:47:27.274552",
     "exception": false,
     "start_time": "2022-01-02T12:47:27.229653",
     "status": "completed"
    },
    "tags": []
   },
   "outputs": [],
   "source": [
    "seed_torch(SEED)"
   ]
  },
  {
   "cell_type": "code",
   "execution_count": 21,
   "id": "66d3ccfb",
   "metadata": {
    "execution": {
     "iopub.execute_input": "2022-01-02T12:47:27.347367Z",
     "iopub.status.busy": "2022-01-02T12:47:27.346294Z",
     "iopub.status.idle": "2022-01-02T12:50:19.309192Z",
     "shell.execute_reply": "2022-01-02T12:50:19.310033Z",
     "shell.execute_reply.started": "2022-01-01T14:14:18.591735Z"
    },
    "papermill": {
     "duration": 172.001847,
     "end_time": "2022-01-02T12:50:19.310361",
     "exception": false,
     "start_time": "2022-01-02T12:47:27.308514",
     "status": "completed"
    },
    "tags": []
   },
   "outputs": [
    {
     "name": "stderr",
     "output_type": "stream",
     "text": [
      "/opt/conda/lib/python3.7/site-packages/torch/utils/data/dataloader.py:481: UserWarning: This DataLoader will create 4 worker processes in total. Our suggested max number of worker in current system is 2, which is smaller than what this DataLoader is going to create. Please be aware that excessive worker creation might get DataLoader running slow or even freeze, lower the worker number to avoid potential slowness/freeze if necessary.\n",
      "  cpuset_checked))\n",
      "100%|██████████| 2141/2141 [02:22<00:00, 15.07it/s]\n"
     ]
    },
    {
     "name": "stdout",
     "output_type": "stream",
     "text": [
      "Our text embeddings shape is (34250, 768)\n"
     ]
    }
   ],
   "source": [
    "text_embeddings = get_text_embeddings(df)"
   ]
  },
  {
   "cell_type": "code",
   "execution_count": 22,
   "id": "dee782fd",
   "metadata": {
    "execution": {
     "iopub.execute_input": "2022-01-02T12:50:20.094613Z",
     "iopub.status.busy": "2022-01-02T12:50:20.093724Z",
     "iopub.status.idle": "2022-01-02T12:52:11.297772Z",
     "shell.execute_reply": "2022-01-02T12:52:11.296748Z",
     "shell.execute_reply.started": "2022-01-01T14:17:07.519431Z"
    },
    "papermill": {
     "duration": 111.596819,
     "end_time": "2022-01-02T12:52:11.297951",
     "exception": false,
     "start_time": "2022-01-02T12:50:19.701132",
     "status": "completed"
    },
    "tags": []
   },
   "outputs": [
    {
     "name": "stdout",
     "output_type": "stream",
     "text": [
      "Our f1 score for threshold 0.0 is 0.0\n",
      "Our f1 score for threshold 0.1 is 0.48094688727789436\n",
      "Our f1 score for threshold 0.2 is 0.5100839867716956\n",
      "Our f1 score for threshold 0.30000000000000004 is 0.5855265683000873\n",
      "Our f1 score for threshold 0.4 is 0.7227316918071249\n",
      "Our f1 score for threshold 0.5 is 0.8722638666633159\n",
      "Our f1 score for threshold 0.6000000000000001 is 0.9624221766966701\n",
      "Our f1 score for threshold 0.7000000000000001 is 0.9913055261272978\n",
      "Our f1 score for threshold 0.8 is 0.9941462307012333\n",
      "Our f1 score for threshold 0.9 is 0.9948836584413164\n",
      "Our f1 score for threshold 1.0 is 0.9943685806213375\n",
      "Our f1 score for threshold 1.1 is 0.9754567053348855\n",
      "Our f1 score for threshold 1.2000000000000002 is 0.5130259379902221\n",
      "Our f1 score for threshold 1.3 is 0.18533557125922387\n",
      "Our f1 score for threshold 1.4000000000000001 is 0.18533557125922387\n",
      "Our f1 score for threshold 1.5 is 0.18533557125922387\n",
      "Our f1 score for threshold 1.6 is 0.18533557125922387\n",
      "Our f1 score for threshold 1.7000000000000002 is 0.18533557125922387\n",
      "Our f1 score for threshold 1.8 is 0.18533557125922387\n",
      "Our f1 score for threshold 1.9000000000000001 is 0.18533557125922387\n",
      "Our best score is 0.9948836584413164 and has a threshold 0.9\n"
     ]
    }
   ],
   "source": [
    "df, text_predictions = get_neighbors(df, text_embeddings, KNN = 50, image = False)"
   ]
  },
  {
   "cell_type": "markdown",
   "id": "4667fe69",
   "metadata": {
    "papermill": {
     "duration": 0.387026,
     "end_time": "2022-01-02T12:52:12.077901",
     "exception": false,
     "start_time": "2022-01-02T12:52:11.690875",
     "status": "completed"
    },
    "tags": []
   },
   "source": [
    "# [IMG] Predictions"
   ]
  },
  {
   "cell_type": "code",
   "execution_count": 23,
   "id": "d2d2683c",
   "metadata": {
    "execution": {
     "iopub.execute_input": "2022-01-02T12:52:12.872096Z",
     "iopub.status.busy": "2022-01-02T12:52:12.869862Z",
     "iopub.status.idle": "2022-01-02T12:52:12.872865Z",
     "shell.execute_reply": "2022-01-02T12:52:12.873466Z"
    },
    "papermill": {
     "duration": 0.405654,
     "end_time": "2022-01-02T12:52:12.873634",
     "exception": false,
     "start_time": "2022-01-02T12:52:12.467980",
     "status": "completed"
    },
    "tags": []
   },
   "outputs": [],
   "source": [
    "seed_torch(SEED_img)"
   ]
  },
  {
   "cell_type": "code",
   "execution_count": 24,
   "id": "5c9b2f83",
   "metadata": {
    "execution": {
     "iopub.execute_input": "2022-01-02T12:52:13.666245Z",
     "iopub.status.busy": "2022-01-02T12:52:13.665107Z",
     "iopub.status.idle": "2022-01-02T13:03:16.507944Z",
     "shell.execute_reply": "2022-01-02T13:03:16.508897Z",
     "shell.execute_reply.started": "2022-01-01T14:18:18.592924Z"
    },
    "papermill": {
     "duration": 663.242853,
     "end_time": "2022-01-02T13:03:16.509279",
     "exception": false,
     "start_time": "2022-01-02T12:52:13.266426",
     "status": "completed"
    },
    "tags": []
   },
   "outputs": [
    {
     "name": "stdout",
     "output_type": "stream",
     "text": [
      "Model building for efficientnet_b3 backbone\n"
     ]
    },
    {
     "name": "stderr",
     "output_type": "stream",
     "text": [
      "100%|██████████| 2141/2141 [10:58<00:00,  3.25it/s]\n"
     ]
    },
    {
     "name": "stdout",
     "output_type": "stream",
     "text": [
      "Our image embeddings shape is (34250, 1536)\n"
     ]
    }
   ],
   "source": [
    "image_embeddings = get_image_embeddings(image_paths.values)"
   ]
  },
  {
   "cell_type": "code",
   "execution_count": 25,
   "id": "1afeb6fa",
   "metadata": {
    "execution": {
     "iopub.execute_input": "2022-01-02T13:03:19.028669Z",
     "iopub.status.busy": "2022-01-02T13:03:19.027678Z",
     "iopub.status.idle": "2022-01-02T13:05:06.613487Z",
     "shell.execute_reply": "2022-01-02T13:05:06.612429Z",
     "shell.execute_reply.started": "2022-01-01T14:27:41.157813Z"
    },
    "papermill": {
     "duration": 108.683265,
     "end_time": "2022-01-02T13:05:06.613675",
     "exception": false,
     "start_time": "2022-01-02T13:03:17.930410",
     "status": "completed"
    },
    "tags": []
   },
   "outputs": [
    {
     "name": "stdout",
     "output_type": "stream",
     "text": [
      "Our f1 score for threshold 2.0 is 0.6637180196883599\n",
      "Our f1 score for threshold 2.1 is 0.671665067800424\n",
      "Our f1 score for threshold 2.2 is 0.680301350312013\n",
      "Our f1 score for threshold 2.3000000000000003 is 0.689292885187317\n",
      "Our f1 score for threshold 2.4000000000000004 is 0.6988620480116946\n",
      "Our f1 score for threshold 2.5000000000000004 is 0.708586951272966\n",
      "Our f1 score for threshold 2.6000000000000005 is 0.7183590073153806\n",
      "Our f1 score for threshold 2.7000000000000006 is 0.7286376604264455\n",
      "Our f1 score for threshold 2.8000000000000007 is 0.7386500559114585\n",
      "Our f1 score for threshold 2.900000000000001 is 0.7484266819248202\n",
      "Our f1 score for threshold 3.000000000000001 is 0.7545354308952348\n",
      "Our f1 score for threshold 3.100000000000001 is 0.7557579629621384\n",
      "Our f1 score for threshold 3.200000000000001 is 0.7513392604288943\n",
      "Our f1 score for threshold 3.300000000000001 is 0.7374340214564228\n",
      "Our f1 score for threshold 3.4000000000000012 is 0.7122843744943351\n",
      "Our f1 score for threshold 3.5000000000000013 is 0.6769996402357114\n",
      "Our f1 score for threshold 3.6000000000000014 is 0.6327612492361255\n",
      "Our f1 score for threshold 3.7000000000000015 is 0.5819944730721678\n",
      "Our f1 score for threshold 3.8000000000000016 is 0.5282847838079515\n",
      "Our f1 score for threshold 3.9000000000000017 is 0.47630519834401763\n",
      "Our best score is 0.7557579629621384 and has a threshold 3.100000000000001\n"
     ]
    }
   ],
   "source": [
    "df,image_predictions = get_neighbors(df, image_embeddings, KNN = 50, image = True)"
   ]
  },
  {
   "cell_type": "markdown",
   "id": "198a010c",
   "metadata": {
    "papermill": {
     "duration": 1.099369,
     "end_time": "2022-01-02T13:05:09.132712",
     "exception": false,
     "start_time": "2022-01-02T13:05:08.033343",
     "status": "completed"
    },
    "tags": []
   },
   "source": [
    "# image phash"
   ]
  },
  {
   "cell_type": "code",
   "execution_count": 26,
   "id": "73263c6a",
   "metadata": {
    "execution": {
     "iopub.execute_input": "2022-01-02T13:05:11.364071Z",
     "iopub.status.busy": "2022-01-02T13:05:11.362991Z",
     "iopub.status.idle": "2022-01-02T13:05:13.528046Z",
     "shell.execute_reply": "2022-01-02T13:05:13.527053Z",
     "shell.execute_reply.started": "2022-01-01T14:28:48.314593Z"
    },
    "papermill": {
     "duration": 3.275853,
     "end_time": "2022-01-02T13:05:13.528259",
     "exception": false,
     "start_time": "2022-01-02T13:05:10.252406",
     "status": "completed"
    },
    "tags": []
   },
   "outputs": [],
   "source": [
    "tmp = df.groupby('image_phash').posting_id.agg('unique').to_dict()\n",
    "df['phash_preds'] = df.image_phash.map(tmp)"
   ]
  },
  {
   "cell_type": "markdown",
   "id": "d437dd9c",
   "metadata": {
    "papermill": {
     "duration": 1.105896,
     "end_time": "2022-01-02T13:05:15.752166",
     "exception": false,
     "start_time": "2022-01-02T13:05:14.646270",
     "status": "completed"
    },
    "tags": []
   },
   "source": [
    "# -------------------- Preparing Submission --------------------"
   ]
  },
  {
   "cell_type": "code",
   "execution_count": 27,
   "id": "8bdca020",
   "metadata": {
    "execution": {
     "iopub.execute_input": "2022-01-02T13:05:18.112335Z",
     "iopub.status.busy": "2022-01-02T13:05:18.111219Z",
     "iopub.status.idle": "2022-01-02T13:05:18.118663Z",
     "shell.execute_reply": "2022-01-02T13:05:18.116796Z",
     "shell.execute_reply.started": "2022-01-01T14:28:49.709375Z"
    },
    "papermill": {
     "duration": 1.218189,
     "end_time": "2022-01-02T13:05:18.118884",
     "exception": false,
     "start_time": "2022-01-02T13:05:16.900695",
     "status": "completed"
    },
    "tags": []
   },
   "outputs": [],
   "source": [
    "def combine_predictions(row):\n",
    "#     x = np.concatenate([row['image_predictions'], row['phash_preds']])\n",
    "#     return ' '.join( np.unique(x) )\n",
    "\n",
    "    x = np.concatenate([row['image_predictions'], row['text_predictions'], row['phash_preds']])\n",
    "    return ' '.join( np.unique(x) )"
   ]
  },
  {
   "cell_type": "code",
   "execution_count": 28,
   "id": "cb27c1b8",
   "metadata": {
    "execution": {
     "iopub.execute_input": "2022-01-02T13:05:20.628627Z",
     "iopub.status.busy": "2022-01-02T13:05:20.627941Z",
     "iopub.status.idle": "2022-01-02T13:05:23.615592Z",
     "shell.execute_reply": "2022-01-02T13:05:23.616145Z",
     "shell.execute_reply.started": "2022-01-01T14:28:49.71601Z"
    },
    "papermill": {
     "duration": 4.129592,
     "end_time": "2022-01-02T13:05:23.616422",
     "exception": false,
     "start_time": "2022-01-02T13:05:19.486830",
     "status": "completed"
    },
    "tags": []
   },
   "outputs": [
    {
     "name": "stdout",
     "output_type": "stream",
     "text": [
      "Our final f1 cv score is 0.9586492247694072\n"
     ]
    }
   ],
   "source": [
    "if GET_CV:\n",
    "    df['image_predictions'] = image_predictions\n",
    "    df['text_predictions'] = text_predictions\n",
    "    df['pred_matches'] = df.apply(combine_predictions, axis = 1)\n",
    "    df['f1'] = f1_score(df['matches'], df['pred_matches'])\n",
    "    score = df['f1'].mean()\n",
    "    print(f'Our final f1 cv score is {score}')\n",
    "    df['matches'] = df['pred_matches']\n",
    "    df[['posting_id', 'matches']].to_csv('submission.csv', index = False)\n",
    "else:\n",
    "    df['image_predictions'] = image_predictions\n",
    "    df['text_predictions'] = text_predictions\n",
    "    df['matches'] = df.apply(combine_predictions, axis = 1)\n",
    "    df[['posting_id', 'matches']].to_csv('submission.csv', index = False)"
   ]
  }
 ],
 "metadata": {
  "kernelspec": {
   "display_name": "Python 3",
   "language": "python",
   "name": "python3"
  },
  "language_info": {
   "codemirror_mode": {
    "name": "ipython",
    "version": 3
   },
   "file_extension": ".py",
   "mimetype": "text/x-python",
   "name": "python",
   "nbconvert_exporter": "python",
   "pygments_lexer": "ipython3",
   "version": "3.7.12"
  },
  "papermill": {
   "default_parameters": {},
   "duration": 1120.266251,
   "end_time": "2022-01-02T13:05:28.093964",
   "environment_variables": {},
   "exception": null,
   "input_path": "__notebook__.ipynb",
   "output_path": "__notebook__.ipynb",
   "parameters": {},
   "start_time": "2022-01-02T12:46:47.827713",
   "version": "2.3.3"
  }
 },
 "nbformat": 4,
 "nbformat_minor": 5
}
